{
 "cells": [
  {
   "cell_type": "markdown",
   "metadata": {},
   "source": [
    "# Solving Hamilton-Jacobi-Bellman PDE with Physically-Informed Neural Networks"
   ]
  },
  {
   "cell_type": "markdown",
   "metadata": {},
   "source": [
    "Where should I start? Hmmm. Quadratic Programming is the way to go. Yeah, let's start with that.\n",
    "\n",
    "https://www.cds.caltech.edu/~murray/courses/cds110/wi06/lqr.pdf\n",
    "\n",
    "Esse problema tem uma solucao explicita, entao eh bom pra ver o quao boa a PINN eh de resolver. Nossa eu to cansadao vou parar agora. \n",
    "\n",
    "TODO\n",
    "- resolver explicitamente de acordo com as notas acima\n",
    "- resolver com PINN e comparar com solucao otima\n",
    "\n",
    "Isso eh um bom primeiro passo."
   ]
  }
 ],
 "metadata": {
  "language_info": {
   "name": "python"
  }
 },
 "nbformat": 4,
 "nbformat_minor": 2
}
