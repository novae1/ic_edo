{
 "cells": [
  {
   "cell_type": "markdown",
   "metadata": {},
   "source": [
    "# Solving Hamilton-Jacobi-Bellman PDE with Physically-Informed Neural Networks"
   ]
  },
  {
   "cell_type": "markdown",
   "metadata": {},
   "source": [
    "Where should I start? Hmmm. Quadratic Programming is the way to go. Yeah, let's start with that.\n",
    "\n",
    "https://www.cds.caltech.edu/~murray/courses/cds110/wi06/lqr.pdf\n",
    "\n",
    "This problem has an explicit solution, so it's a good way to see how good the PINN is of solving it.\n",
    "TODO\n",
    "\n",
    "- solve explicitly according to the notes above\n",
    "- solve with PINN and compare with optimal solution\n",
    "\n",
    "It's a good first step."
   ]
  },
  {
   "cell_type": "code",
   "execution_count": 2,
   "metadata": {},
   "outputs": [],
   "source": [
    "import numpy as np\n",
    "from scipy.integrate import quad, simps\n",
    "from typing import Callable"
   ]
  },
  {
   "cell_type": "code",
   "execution_count": 1,
   "metadata": {},
   "outputs": [],
   "source": [
    "# Final time\n",
    "T = 1\n",
    "# Number of points in the discretization\n",
    "N = 100\n",
    "# Step size\n",
    "h = T / N\n",
    "\n",
    "# System matrices\n",
    "# Q, R and P1 need to be symmetric and positive semidefinite (definite for R)\n",
    "A = np.array([1])\n",
    "B = np.array([0.1])\n",
    "Q = np.array([1])\n",
    "R = np.array([1])\n",
    "P1 = np.array([1])"
   ]
  },
  {
   "cell_type": "code",
   "execution_count": 4,
   "metadata": {},
   "outputs": [],
   "source": [
    "# Total cost function that we want to minimize\n",
    "def total_cost(x: np.ndarray, u: np.ndarray, h: float) -> float:\n",
    "\t# Integral of the cost function\n",
    "\tcumulative_cost = np.sum(simps(x.T @ Q @ x + u.T @ R @ u, dx=h))\n",
    "\t# Fixed cost at the final time\n",
    "\tfixed_cost = 0.5 * x(T).T @ P1 @ x(T)\n",
    "\treturn cumulative_cost + fixed_cost"
   ]
  },
  {
   "cell_type": "code",
   "execution_count": 5,
   "metadata": {},
   "outputs": [],
   "source": [
    "# Dynamics of the system\n",
    "def F(x: np.ndarray, u: np.ndarray) -> np.ndarray:\n",
    "\treturn A @ x + B @ u"
   ]
  },
  {
   "cell_type": "code",
   "execution_count": 6,
   "metadata": {},
   "outputs": [],
   "source": [
    "def reverse_time_ricatti_equation(P: np.ndarray) -> np.ndarray:\n",
    "\t# ODE from caltech notes\n",
    "\t# Note that we only have a final condition for P, not an initial condition\n",
    "\t# So we need to solve the ODE backwards in time\n",
    "\treturn P @ A + A.T @ P + Q - P @ B @ np.linalg.inv(R) @ B.T @ P"
   ]
  },
  {
   "cell_type": "code",
   "execution_count": null,
   "metadata": {},
   "outputs": [],
   "source": [
    "def RK_method(F, x0, h, n_steps, a, b, c):\n",
    "    dim = len(x0)\n",
    "    l = len(b)\n",
    "    x = np.zeros((n_steps, dim))\n",
    "    x[0] = x0\n",
    "    k = np.zeros((l, dim))\n",
    "\n",
    "    for n in range(1, n_steps):\n",
    "        k[0] = F(x[n - 1])\n",
    "        for i in range(1, l):\n",
    "            x_i = x[n - 1] + h * np.dot(a[i - 1][:i], k[:i])\n",
    "            k[i] = F(x_i)\n",
    "        x[n] = x[n - 1] + h * np.dot(b, k)\n",
    "\n",
    "    return x\n",
    "\n",
    "# Classical (4-stage) Runge-Kutta\n",
    "def RK4(F, x0, h, n_steps):\n",
    "    a = np.array(\n",
    "        [[0.5, 0, 0],\n",
    "         [0, 0.5, 0],\n",
    "         [0, 0, 1]]\n",
    "    )\n",
    "    b = np.array([1 / 6, 2 / 6, 2 / 6, 1 / 6])\n",
    "    c = np.array([0, 0.5, 0.5, 1])\n",
    "    \n",
    "    return RK_method(F, x0, h, n_steps, a, b, c)\n"
   ]
  }
 ],
 "metadata": {
  "kernelspec": {
   "display_name": "Python 3",
   "language": "python",
   "name": "python3"
  },
  "language_info": {
   "codemirror_mode": {
    "name": "ipython",
    "version": 3
   },
   "file_extension": ".py",
   "mimetype": "text/x-python",
   "name": "python",
   "nbconvert_exporter": "python",
   "pygments_lexer": "ipython3",
   "version": "3.12.6"
  }
 },
 "nbformat": 4,
 "nbformat_minor": 2
}
