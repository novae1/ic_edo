{
 "cells": [
  {
   "cell_type": "markdown",
   "metadata": {},
   "source": [
    "# Molecular Simulation\n",
    "\n",
    "Using Lennard-Jones potential"
   ]
  },
  {
   "cell_type": "code",
   "execution_count": 1,
   "metadata": {},
   "outputs": [
    {
     "name": "stdout",
     "output_type": "stream",
     "text": [
      "pygame 2.6.0 (SDL 2.28.4, Python 3.12.6)\n",
      "Hello from the pygame community. https://www.pygame.org/contribute.html\n"
     ]
    }
   ],
   "source": [
    "import numpy as np\n",
    "import pygame\n",
    "import math"
   ]
  },
  {
   "cell_type": "code",
   "execution_count": 37,
   "metadata": {},
   "outputs": [],
   "source": [
    "MASS = 1.\n",
    "SIGMA = 1e-2\n",
    "EPSILON = 1"
   ]
  },
  {
   "cell_type": "markdown",
   "metadata": {},
   "source": [
    "### Code stuff"
   ]
  },
  {
   "cell_type": "code",
   "execution_count": 38,
   "metadata": {},
   "outputs": [],
   "source": [
    "# Force derived from Lennard-Jones potential, F = -gradV\n",
    "def lennard_jones_force(X):\n",
    "\t'''\n",
    "\tX = [dpx, dpy, vx, vy], an ndarray\n",
    "\tdpx, dpy: difference between position of molecule that\n",
    "\twill be updated and molecule that is creating the force\n",
    "\tvx, vy: velocity of molecule that will be updated\n",
    "\t'''\n",
    "\tdpx, dpy, vx, vy = X\n",
    "\tDpx = vx\n",
    "\tDpy = vy\n",
    "\tdrs = dpx**2 + dpy**2 + 1e-4 # Distance between particles squared\n",
    "\tc = 24 * EPSILON * (SIGMA ** 6) * (1 / MASS) * (drs ** (-4)) * (2 * (SIGMA ** 6) * (drs ** (-3)) - 1) # Insane constant\n",
    "\tDvx = c * dpx\n",
    "\tDvy = c * dpy\n",
    "\treturn np.array([Dpx, Dpy, Dvx, Dvy])"
   ]
  },
  {
   "cell_type": "code",
   "execution_count": 39,
   "metadata": {},
   "outputs": [],
   "source": [
    "def RK_method(F, X, h, a, b, c):\n",
    "\tdim = len(X)\n",
    "\tl = len(b)\n",
    "\tk = np.zeros((l, dim))\n",
    "\n",
    "\tk[0] = F(X)\n",
    "\tfor i in range(1, l):\n",
    "\t\tx_i = X + h * np.dot(a[i-1][:i], k[:i])\n",
    "\t\tk[i] = F(x_i)\n",
    "\t\t\n",
    "\treturn h * np.dot(b, k)\n",
    "\n",
    "a = np.array(\n",
    "    [[0.5, 0], [-1, 2]]\n",
    ")\n",
    "b = np.array([1/6, 4/6, 1/6])\n",
    "c = np.array([0, 0.5, 1])\n",
    "\n",
    "def RK3(F, X, h):\n",
    "    return RK_method(F, X, h, a, b, c)"
   ]
  },
  {
   "cell_type": "code",
   "execution_count": 40,
   "metadata": {},
   "outputs": [],
   "source": [
    "# Update particles according to the ODE that determines the system\n",
    "def simulation_step(particles, h):\n",
    "\t# Copy particles array\n",
    "\tupdated_particles = np.copy(particles)\n",
    "\n",
    "\t# Initialize grid which will store particle indices in cells\n",
    "\t# Particles will only interact with particles in neighboring cells\n",
    "\tgrid = dict() # Store indices of particles in array with key being the idx of a cell\n",
    "\treversed_grid = dict() # Store pairs particle idx : grid idx\n",
    "\tn = math.floor(1 / (2.5 * SIGMA)) # n^2 = number of cells\n",
    "\tl = 1 / n # side length of cell\n",
    "\tfor i in range(-1, n+1): # This range will be used so that there isn't an out of bound error later\n",
    "\t\tfor j in range(-1, n+1):\n",
    "\t\t\tgrid[(i, j)] = [] # Indices will be stored in the array\n",
    "\n",
    "\t# Add particles to their respective cells, O(len(particles))\n",
    "\tfor k, p in enumerate(particles):\n",
    "\t\t# Compute the cell the particle is in and add it to cell\n",
    "\t\tpx, py = p[:2]\n",
    "\t\ti = round(n * (px - (px % l)))\n",
    "\t\tj = round(n * (py - (py % l)))\n",
    "\t\tgrid[(i, j)].append(k)\n",
    "\t\treversed_grid[k] = (i, j)\n",
    "\n",
    "\t# Main loop\n",
    "\tfor k, p1 in enumerate(particles):\n",
    "\t\t# Get cell index of p1\n",
    "\t\ti, j = reversed_grid[k]\n",
    "\n",
    "\t\t# List cells p1 can interact with\n",
    "\t\t# There won't be bound errors, read comment above\n",
    "\t\tcells = [\n",
    "\t\t\t(i-1, j-1), (i-1, j), (i-1, j+1),\n",
    "         \t(i, j-1),   (i, j),   (i, j+1),\n",
    "         \t(i+1, j-1), (i+1, j), (i+1, j+1),\n",
    "\t\t]\n",
    "\n",
    "\t\tfor cell in cells:\n",
    "\t\t\tfor p2_idx in grid[cell]:\n",
    "\t\t\t\tp2 = particles[p2_idx]\n",
    "\t\t\t\tif p1 is not p2:\n",
    "\t\t\t\t\t# Compute interactions\n",
    "\t\t\t\t\tdpx, dpy = p1[:2] - p2[:2]\n",
    "\t\t\t\t\tvx, vy = p1[2:]\n",
    "\t\t\t\t\tX = np.array([dpx, dpy, vx, vy])\n",
    "\t\t\t\t\tupdated_particles[k] += RK3(lennard_jones_force, X, h)\n",
    "\n",
    "\t\t# Deal with boundary conditions\n",
    "\t\tif updated_particles[k, 0] < 0:\n",
    "\t\t\tupdated_particles[k, 0] = 1e-6\n",
    "\t\t\tupdated_particles[k, 2] *= -1\n",
    "\t\telif updated_particles[k, 0] >= 1:\n",
    "\t\t\tupdated_particles[k, 0] = 1 - 1e-6\n",
    "\t\t\tupdated_particles[k, 2] *= -1\n",
    "\t\tif updated_particles[k, 1] < 0:\n",
    "\t\t\tupdated_particles[k, 1] = 1e-6\n",
    "\t\t\tupdated_particles[k, 3] *= -1\n",
    "\t\telif updated_particles[k, 1] >= 1:\n",
    "\t\t\tupdated_particles[k, 1] = 1 - 1e-6\n",
    "\t\t\tupdated_particles[k, 3] *= -1\n",
    "\t\t\t\n",
    "\treturn updated_particles"
   ]
  },
  {
   "cell_type": "code",
   "execution_count": 41,
   "metadata": {},
   "outputs": [],
   "source": [
    "# Initialize pygame display\n",
    "def init_pygame_display(window_size=(500, 500)):\n",
    "    pygame.init()\n",
    "    screen = pygame.display.set_mode(window_size)\n",
    "    pygame.display.set_caption(\"Position Simulation\")\n",
    "    return screen\n",
    "\n",
    "# Function to display simulation using pygame\n",
    "def run_simulation(particles, window_size=(500, 500), point_radius=2, speed=1e-2):\n",
    "    screen = init_pygame_display(window_size)\n",
    "    clock = pygame.time.Clock()\n",
    "    running = True\n",
    "    \n",
    "    while running:\n",
    "        # Check for Pygame events (such as quitting the simulation)\n",
    "        for event in pygame.event.get():\n",
    "            if event.type == pygame.QUIT:\n",
    "                running = False\n",
    "                pygame.quit()\n",
    "                return  # Exit function\n",
    "        \n",
    "        # Update particles' positions with the simulation step\n",
    "        particles = simulation_step(particles, speed)\n",
    "        \n",
    "        # Scale the particles' positions to fit within the window\n",
    "        scaled_particles = particles[:, :2] * window_size[0]  # Assuming positions are in [0, 1]\n",
    "        \n",
    "        # Clear the screen with a white background\n",
    "        screen.fill((255, 255, 255))\n",
    "\n",
    "        # Draw each particle as a circle\n",
    "        for pos in scaled_particles:\n",
    "            x, y = pos\n",
    "            pygame.draw.circle(screen, (0, 0, 255), (int(x), int(y)), point_radius)\n",
    "\n",
    "        # Update the display\n",
    "        pygame.display.flip()\n",
    "\n",
    "        # Cap the frame rate at 30 FPS\n",
    "        clock.tick(30)"
   ]
  },
  {
   "cell_type": "markdown",
   "metadata": {},
   "source": [
    "### Actual sim"
   ]
  },
  {
   "cell_type": "code",
   "execution_count": 46,
   "metadata": {},
   "outputs": [],
   "source": [
    "n_particles = 1000\n",
    "h = 1e-4\n",
    "\n",
    "# Each particle has an px, py position and vx, vy velocity\n",
    "particles = np.random.uniform(size=(n_particles, 4))\n",
    "particles[:, 2:] = 10 * (particles[:, 2:] - 0.5)\n",
    "\n",
    "for _ in range(1): # each step takes around 4e-2 seconds\n",
    "\tparticles = simulation_step(particles, h)"
   ]
  },
  {
   "cell_type": "code",
   "execution_count": 47,
   "metadata": {},
   "outputs": [],
   "source": [
    "run_simulation(particles, window_size=(500, 500), point_radius=2, speed=h)"
   ]
  }
 ],
 "metadata": {
  "kernelspec": {
   "display_name": "Python 3",
   "language": "python",
   "name": "python3"
  },
  "language_info": {
   "codemirror_mode": {
    "name": "ipython",
    "version": 3
   },
   "file_extension": ".py",
   "mimetype": "text/x-python",
   "name": "python",
   "nbconvert_exporter": "python",
   "pygments_lexer": "ipython3",
   "version": "3.12.6"
  }
 },
 "nbformat": 4,
 "nbformat_minor": 2
}
