{
 "cells": [
  {
   "cell_type": "markdown",
   "metadata": {},
   "source": [
    "# Molecular Simulation\n",
    "\n",
    "Using Lennard-Jones potential"
   ]
  },
  {
   "cell_type": "code",
   "execution_count": 31,
   "metadata": {},
   "outputs": [],
   "source": [
    "import numpy as np\n",
    "import pygame"
   ]
  },
  {
   "cell_type": "code",
   "execution_count": 94,
   "metadata": {},
   "outputs": [],
   "source": [
    "MASS = 1.\n",
    "SIGMA = 1.\n",
    "EPSILON = 1."
   ]
  },
  {
   "cell_type": "markdown",
   "metadata": {},
   "source": [
    "### Code stuff"
   ]
  },
  {
   "cell_type": "code",
   "execution_count": 95,
   "metadata": {},
   "outputs": [],
   "source": [
    "# Force derived from Lennard-Jones potential, F = -gradV\n",
    "def lennard_jones_force(X):\n",
    "\t'''\n",
    "\tX = [dpx, dpy, vx, vy], an ndarray\n",
    "\tdpx, dpy: difference between position of molecule that\n",
    "\twill be updated and molecule that is creating the force\n",
    "\tvx, vy: velocity of molecule that will be updated\n",
    "\t'''\n",
    "\tdpx, dpy, vx, vy = X\n",
    "\tDpx = vx\n",
    "\tDpy = vy\n",
    "\tdrs = dpx**2 + dpy**2 + 5e-3 # Distance between particles squared\n",
    "\tc = 24 * EPSILON * (SIGMA ** 6) * (1 / MASS) * (drs ** (-4)) * (2 * (SIGMA ** 6) * (drs ** (-3)) - 1) # Insane constant\n",
    "\tDvx = c * dpx\n",
    "\tDvy = c * dpy\n",
    "\treturn np.array([Dpx, Dpy, Dvx, Dvy])"
   ]
  },
  {
   "cell_type": "code",
   "execution_count": 96,
   "metadata": {},
   "outputs": [],
   "source": [
    "def RK_method(F, X, h, a, b, c):\n",
    "\tdim = len(X)\n",
    "\tl = len(b)\n",
    "\tk = np.zeros((l, dim))\n",
    "\n",
    "\tk[0] = F(X)\n",
    "\tfor i in range(1, l):\n",
    "\t\tx_i = X + h * np.dot(a[i-1][:i], k[:i])\n",
    "\t\tk[i] = F(x_i)\n",
    "\t\t\n",
    "\treturn h * np.dot(b, k)\n",
    "\n",
    "a = np.array(\n",
    "    [[0.5, 0], [-1, 2]]\n",
    ")\n",
    "b = np.array([1/6, 4/6, 1/6])\n",
    "c = np.array([0, 0.5, 1])\n",
    "\n",
    "def RK3(F, X, h):\n",
    "    return RK_method(F, X, h, a, b, c)"
   ]
  },
  {
   "cell_type": "code",
   "execution_count": 97,
   "metadata": {},
   "outputs": [],
   "source": [
    "def euler(F, X, h):\n",
    "\treturn h * F(X)"
   ]
  },
  {
   "cell_type": "code",
   "execution_count": 98,
   "metadata": {},
   "outputs": [],
   "source": [
    "# Update particles according to the ODE that determines the system\n",
    "def simulation_step(particles, h):\n",
    "\tupdated_particles = np.copy(particles)\n",
    "\tfor i, p1 in enumerate(particles):\n",
    "\t\tfor p2 in particles:\n",
    "\t\t\tif p1 is not p2:\n",
    "\t\t\t\tdpx, dpy = p1[:2] - p2[:2]\n",
    "\t\t\t\tvx, vy = p1[2:]\n",
    "\t\t\t\tX = np.array([dpx, dpy, vx, vy])\n",
    "\t\t\t\t# X = np.concatenate((p1[:2] - p2[:2]), p1[2:]) FIX THIS LATER I GUESS\n",
    "\t\t\t\tupdated_particles[i] += RK3(lennard_jones_force, X, h)\n",
    "\t\tif updated_particles[i, 0] < 0 or updated_particles[i, 0] >= 1:\n",
    "\t\t\tupdated_particles[i, 2] *= -1\n",
    "\t\tif updated_particles[i, 1] < 0 or updated_particles[i, 1] >= 1:\n",
    "\t\t\tupdated_particles[i, 3] *= -1\n",
    "\treturn updated_particles"
   ]
  },
  {
   "cell_type": "code",
   "execution_count": 99,
   "metadata": {},
   "outputs": [],
   "source": [
    "# Initialize pygame display\n",
    "def init_pygame_display(window_size=(500, 500)):\n",
    "    pygame.init()\n",
    "    screen = pygame.display.set_mode(window_size)\n",
    "    pygame.display.set_caption(\"Position Simulation\")\n",
    "    return screen\n",
    "\n",
    "# Function to display simulation using pygame\n",
    "def run_simulation(particles, window_size=(500, 500), point_radius=5, speed=1e-2):\n",
    "    screen = init_pygame_display(window_size)\n",
    "    clock = pygame.time.Clock()\n",
    "    running = True\n",
    "    \n",
    "    while running:\n",
    "        # Check for Pygame events (such as quitting the simulation)\n",
    "        for event in pygame.event.get():\n",
    "            if event.type == pygame.QUIT:\n",
    "                running = False\n",
    "                pygame.quit()\n",
    "                return  # Exit function\n",
    "        \n",
    "        # Update particles' positions with the simulation step\n",
    "        particles = simulation_step(particles, speed)\n",
    "        \n",
    "        # Scale the particles' positions to fit within the window\n",
    "        scaled_particles = particles[:, :2] * window_size[0]  # Assuming positions are in [0, 1]\n",
    "        \n",
    "        # Clear the screen with a white background\n",
    "        screen.fill((255, 255, 255))\n",
    "\n",
    "        # Draw each particle as a circle\n",
    "        for pos in scaled_particles:\n",
    "            x, y = pos\n",
    "            pygame.draw.circle(screen, (0, 0, 255), (int(x), int(y)), point_radius)\n",
    "\n",
    "        # Update the display\n",
    "        pygame.display.flip()\n",
    "\n",
    "        # Cap the frame rate at 30 FPS\n",
    "        clock.tick(30)"
   ]
  },
  {
   "cell_type": "markdown",
   "metadata": {},
   "source": [
    "### Actual sim"
   ]
  },
  {
   "cell_type": "code",
   "execution_count": 100,
   "metadata": {},
   "outputs": [
    {
     "name": "stdout",
     "output_type": "stream",
     "text": [
      "[[0.41515085 0.50043062 0.71786479 0.93790769]\n",
      " [0.38000727 0.08146088 0.95627725 0.86824427]\n",
      " [0.53605519 0.79075687 0.06439254 0.99627775]\n",
      " [0.9437292  0.58252018 0.1295168  0.10862996]\n",
      " [0.05681138 0.25237619 0.53513746 0.01602055]]\n"
     ]
    }
   ],
   "source": [
    "n_particles = 50\n",
    "\n",
    "# Each particle has an px, py position and vx, vy velocity\n",
    "particles = np.random.uniform(size=(n_particles, 4))\n",
    "print(particles[:5])"
   ]
  },
  {
   "cell_type": "code",
   "execution_count": 101,
   "metadata": {},
   "outputs": [
    {
     "ename": "TypeError",
     "evalue": "center argument must be a pair of numbers",
     "output_type": "error",
     "traceback": [
      "\u001b[1;31m---------------------------------------------------------------------------\u001b[0m",
      "\u001b[1;31mTypeError\u001b[0m                                 Traceback (most recent call last)",
      "Cell \u001b[1;32mIn[101], line 1\u001b[0m\n\u001b[1;32m----> 1\u001b[0m \u001b[43mrun_simulation\u001b[49m\u001b[43m(\u001b[49m\u001b[43mparticles\u001b[49m\u001b[43m,\u001b[49m\u001b[43m \u001b[49m\u001b[43mwindow_size\u001b[49m\u001b[38;5;241;43m=\u001b[39;49m\u001b[43m(\u001b[49m\u001b[38;5;241;43m500\u001b[39;49m\u001b[43m,\u001b[49m\u001b[43m \u001b[49m\u001b[38;5;241;43m500\u001b[39;49m\u001b[43m)\u001b[49m\u001b[43m,\u001b[49m\u001b[43m \u001b[49m\u001b[43mpoint_radius\u001b[49m\u001b[38;5;241;43m=\u001b[39;49m\u001b[38;5;241;43m5.\u001b[39;49m\u001b[43m,\u001b[49m\u001b[43m \u001b[49m\u001b[43mspeed\u001b[49m\u001b[38;5;241;43m=\u001b[39;49m\u001b[38;5;241;43m1e-2\u001b[39;49m\u001b[43m)\u001b[49m\n",
      "Cell \u001b[1;32mIn[99], line 34\u001b[0m, in \u001b[0;36mrun_simulation\u001b[1;34m(particles, window_size, point_radius, speed)\u001b[0m\n\u001b[0;32m     32\u001b[0m \u001b[38;5;28;01mfor\u001b[39;00m pos \u001b[38;5;129;01min\u001b[39;00m scaled_particles:\n\u001b[0;32m     33\u001b[0m     x, y \u001b[38;5;241m=\u001b[39m pos\n\u001b[1;32m---> 34\u001b[0m     \u001b[43mpygame\u001b[49m\u001b[38;5;241;43m.\u001b[39;49m\u001b[43mdraw\u001b[49m\u001b[38;5;241;43m.\u001b[39;49m\u001b[43mcircle\u001b[49m\u001b[43m(\u001b[49m\u001b[43mscreen\u001b[49m\u001b[43m,\u001b[49m\u001b[43m \u001b[49m\u001b[43m(\u001b[49m\u001b[38;5;241;43m0\u001b[39;49m\u001b[43m,\u001b[49m\u001b[43m \u001b[49m\u001b[38;5;241;43m0\u001b[39;49m\u001b[43m,\u001b[49m\u001b[43m \u001b[49m\u001b[38;5;241;43m255\u001b[39;49m\u001b[43m)\u001b[49m\u001b[43m,\u001b[49m\u001b[43m \u001b[49m\u001b[43m(\u001b[49m\u001b[38;5;28;43mint\u001b[39;49m\u001b[43m(\u001b[49m\u001b[43mx\u001b[49m\u001b[43m)\u001b[49m\u001b[43m,\u001b[49m\u001b[43m \u001b[49m\u001b[38;5;28;43mint\u001b[39;49m\u001b[43m(\u001b[49m\u001b[43my\u001b[49m\u001b[43m)\u001b[49m\u001b[43m)\u001b[49m\u001b[43m,\u001b[49m\u001b[43m \u001b[49m\u001b[43mpoint_radius\u001b[49m\u001b[43m)\u001b[49m\n\u001b[0;32m     36\u001b[0m \u001b[38;5;66;03m# Update the display\u001b[39;00m\n\u001b[0;32m     37\u001b[0m pygame\u001b[38;5;241m.\u001b[39mdisplay\u001b[38;5;241m.\u001b[39mflip()\n",
      "\u001b[1;31mTypeError\u001b[0m: center argument must be a pair of numbers"
     ]
    }
   ],
   "source": [
    "run_simulation(particles, window_size=(500, 500), point_radius=5., speed=1e-2)"
   ]
  }
 ],
 "metadata": {
  "kernelspec": {
   "display_name": "Python 3",
   "language": "python",
   "name": "python3"
  },
  "language_info": {
   "codemirror_mode": {
    "name": "ipython",
    "version": 3
   },
   "file_extension": ".py",
   "mimetype": "text/x-python",
   "name": "python",
   "nbconvert_exporter": "python",
   "pygments_lexer": "ipython3",
   "version": "3.12.6"
  }
 },
 "nbformat": 4,
 "nbformat_minor": 2
}
