{
 "cells": [
  {
   "cell_type": "markdown",
   "metadata": {},
   "source": [
    "# Molecular Simulation\n",
    "\n",
    "Using Lennard-Jones potential"
   ]
  },
  {
   "cell_type": "code",
   "execution_count": 2,
   "metadata": {},
   "outputs": [
    {
     "name": "stdout",
     "output_type": "stream",
     "text": [
      "pygame 2.6.0 (SDL 2.28.4, Python 3.12.6)\n",
      "Hello from the pygame community. https://www.pygame.org/contribute.html\n"
     ]
    }
   ],
   "source": [
    "import numpy as np\n",
    "import pygame\n",
    "from IPython.display import display, clear_output"
   ]
  },
  {
   "cell_type": "code",
   "execution_count": 3,
   "metadata": {},
   "outputs": [],
   "source": [
    "N_PARTICLES = 2\n",
    "MASS = 1.\n",
    "SIGMA = 1.\n",
    "EPSILON = 1."
   ]
  },
  {
   "cell_type": "code",
   "execution_count": 22,
   "metadata": {},
   "outputs": [],
   "source": [
    "# Force derived from Lennard-Jones potential, F = -gradV\n",
    "def lennard_jones_force(X):\n",
    "\t'''\n",
    "\tX = [dpx, dpy, vx, vy], an ndarray\n",
    "\tdpx, dpy: difference between position of molecule that\n",
    "\twill be updated and molecule that is creating the force\n",
    "\tvx, vy: velocity of molecule that will be updated\n",
    "\t'''\n",
    "\tdpx, dpy, vx, vy = X\n",
    "\tDpx = vx\n",
    "\tDpy = vy\n",
    "\tdrs = dpx**2 + dpy**2 + 1e0 # Distance between particles squared\n",
    "\tc = 24 * EPSILON * (SIGMA ** 6) * (1 / MASS) * (drs ** (-4)) * (2 * (SIGMA ** 6) * (drs ** (-3)) - 1) # Insane constant\n",
    "\tDvx = c * dpx\n",
    "\tDvy = c * dpy\n",
    "\treturn np.array([Dpx, Dpy, Dvx, Dvy])"
   ]
  },
  {
   "cell_type": "code",
   "execution_count": 23,
   "metadata": {},
   "outputs": [],
   "source": [
    "def euler(F, X, h):\n",
    "\tX_next = X + h * F(X)\n",
    "\treturn X_next"
   ]
  },
  {
   "cell_type": "code",
   "execution_count": 24,
   "metadata": {},
   "outputs": [],
   "source": [
    "# Update particles according to the ODE that determines the system\n",
    "def simulation_step(particles, h):\n",
    "\tupdated_particles = np.zeros_like(particles)\n",
    "\tfor i, p1 in enumerate(particles):\n",
    "\t\tfor p2 in particles:\n",
    "\t\t\tif p1 is not p2:\n",
    "\t\t\t\tdpx, dpy = p1[:2] - p2[:2]\n",
    "\t\t\t\tvx, vy = p1[2:]\n",
    "\t\t\t\tX = np.array([dpx, dpy, vx, vy])\n",
    "\t\t\t\t# X = np.concatenate((p1[:2] - p2[:2]), p1[2:]) FIX THIS LATER I GUESS\n",
    "\t\t\t\tupdated_particles[i] += euler(lennard_jones_force, X, h)\n",
    "\treturn updated_particles"
   ]
  },
  {
   "cell_type": "code",
   "execution_count": 25,
   "metadata": {},
   "outputs": [
    {
     "name": "stdout",
     "output_type": "stream",
     "text": [
      "[[0.89718669 0.61381532]\n",
      " [0.09782131 0.79342911]]\n"
     ]
    }
   ],
   "source": [
    "# Each particle has an px, py position and vx, vy velocity\n",
    "particles = np.random.uniform(size=(N_PARTICLES, 4))\n",
    "print(particles[:, :2])"
   ]
  },
  {
   "cell_type": "code",
   "execution_count": 26,
   "metadata": {},
   "outputs": [
    {
     "name": "stdout",
     "output_type": "stream",
     "text": [
      "[ 0.79936538 -0.17961379]\n",
      "[ 1.59873076 -0.35922758]\n",
      "[ 3.19746152 -0.71845515]\n",
      "[ 6.39492304 -1.4369103 ]\n",
      "[12.78984608 -2.8738206 ]\n",
      "[25.57969216 -5.74764121]\n",
      "[ 51.15938431 -11.49528241]\n",
      "[102.31876863 -22.99056481]\n",
      "[204.63753725 -45.9811296 ]\n",
      "[409.27507451 -91.96225917]\n",
      "[ 818.55014902 -183.92451827]\n",
      "[1637.10029803 -367.84903642]\n",
      "[3274.20059606 -735.6980726 ]\n",
      "[ 6548.40119212 -1471.39614471]\n",
      "[13096.80238422 -2942.79228843]\n",
      "[26193.60476842 -5885.58457488]\n",
      "[ 52387.20953677 -11771.16914581]\n",
      "[104774.41907342 -23542.33828374]\n",
      "[209548.8381466  -47084.67655169]\n",
      "[419097.67629272 -94169.35307181]\n",
      "[ 838195.35258445 -188338.7060805 ]\n",
      "[1676390.70516695 -376677.41203474]\n",
      "[3352781.41032999 -753354.82381697]\n",
      "[ 6705562.82065216 -1506709.64712892]\n",
      "[13411125.64128869 -3013419.29324779]\n",
      "[26822251.2825461  -6026838.58447547]\n",
      "[ 53644502.56502964 -12053677.16491073]\n",
      "[ 1.07289005e+08 -2.41073543e+07]\n",
      "[ 2.14578010e+08 -4.82147086e+07]\n",
      "[ 4.29156021e+08 -9.64294172e+07]\n",
      "[ 8.58312041e+08 -1.92858834e+08]\n",
      "[ 1.71662408e+09 -3.85717669e+08]\n",
      "[ 3.43324816e+09 -7.71435337e+08]\n",
      "[ 6.86649633e+09 -1.54287067e+09]\n",
      "[ 1.37329927e+10 -3.08574135e+09]\n",
      "[ 2.74659853e+10 -6.17148269e+09]\n",
      "[ 5.49319706e+10 -1.23429654e+10]\n",
      "[ 1.09863941e+11 -2.46859307e+10]\n",
      "[ 2.19727883e+11 -4.93718615e+10]\n",
      "[ 4.39455765e+11 -9.87437229e+10]\n",
      "[ 8.78911530e+11 -1.97487446e+11]\n",
      "[ 1.75782306e+12 -3.94974891e+11]\n",
      "[ 3.51564612e+12 -7.89949782e+11]\n",
      "[ 7.03129224e+12 -1.57989956e+12]\n",
      "[ 1.40625845e+13 -3.15979913e+12]\n",
      "[ 2.81251690e+13 -6.31959825e+12]\n",
      "[ 5.62503379e+13 -1.26391965e+13]\n",
      "[ 1.12500676e+14 -2.52783930e+13]\n",
      "[ 2.25001352e+14 -5.05567860e+13]\n",
      "[ 4.50002703e+14 -1.01113572e+14]\n",
      "[ 9.00005407e+14 -2.02227144e+14]\n",
      "[ 1.80001081e+15 -4.04454287e+14]\n",
      "[ 3.60002163e+15 -8.08908575e+14]\n",
      "[ 7.20004325e+15 -1.61781715e+15]\n",
      "[ 1.44000865e+16 -3.23563430e+15]\n",
      "[ 2.88001730e+16 -6.47126859e+15]\n",
      "[ 5.76003460e+16 -1.29425372e+16]\n",
      "[ 1.15200692e+17 -2.58850743e+16]\n",
      "[ 2.30401384e+17 -5.17701487e+16]\n",
      "[ 4.60802768e+17 -1.03540297e+17]\n",
      "[ 9.21605536e+17 -2.07080595e+17]\n",
      "[ 1.84321107e+18 -4.14161189e+17]\n",
      "[ 3.68642215e+18 -8.28322378e+17]\n",
      "[ 7.37284429e+18 -1.65664475e+18]\n",
      "[ 1.47456886e+19 -3.31328951e+18]\n",
      "[ 2.94913772e+19 -6.62657901e+18]\n",
      "[ 5.89827543e+19 -1.32531580e+19]\n",
      "[ 1.17965509e+20 -2.65063160e+19]\n",
      "[ 2.35931017e+20 -5.30126321e+19]\n",
      "[ 4.71862035e+20 -1.06025264e+20]\n",
      "[ 9.43724069e+20 -2.12050528e+20]\n",
      "[ 1.88744814e+21 -4.24101056e+20]\n",
      "[ 3.77489628e+21 -8.48202112e+20]\n",
      "[ 7.54979255e+21 -1.69640422e+21]\n",
      "[ 1.50995851e+22 -3.39280844e+21]\n",
      "[ 3.01991702e+22 -6.78561689e+21]\n",
      "[ 6.03983404e+22 -1.35712338e+22]\n",
      "[ 1.20796681e+23 -2.71424675e+22]\n",
      "[ 2.41593362e+23 -5.42849350e+22]\n",
      "[ 4.83186723e+23 -1.08569870e+23]\n",
      "[ 9.66373447e+23 -2.17139740e+23]\n",
      "[ 1.93274689e+24 -4.34279480e+23]\n",
      "[ 3.86549379e+24 -8.68558960e+23]\n",
      "[ 7.73098758e+24 -1.73711792e+24]\n",
      "[ 1.54619752e+25 -3.47423584e+24]\n",
      "[ 3.09239503e+25 -6.94847167e+24]\n",
      "[ 6.18479006e+25 -1.38969433e+25]\n",
      "[ 1.23695801e+26 -2.77938867e+25]\n",
      "[ 2.47391602e+26 -5.55877733e+25]\n",
      "[ 4.94783205e+26 -1.11175547e+26]\n",
      "[ 9.89566410e+26 -2.22351093e+26]\n",
      "[ 1.97913282e+27 -4.44702186e+26]\n",
      "[ 3.95826564e+27 -8.89404372e+26]\n",
      "[ 7.91653128e+27 -1.77880874e+27]\n",
      "[ 1.58330626e+28 -3.55761748e+27]\n",
      "[ 3.16661251e+28 -7.11523497e+27]\n",
      "[ 6.33322502e+28 -1.42304699e+28]\n",
      "[ 1.26664500e+29 -2.84609398e+28]\n",
      "[ 2.53329001e+29 -5.69218797e+28]\n",
      "[ 5.06658002e+29 -1.13843759e+29]\n"
     ]
    }
   ],
   "source": [
    "for _ in range(100):\n",
    "\tparticles = simulation_step(particles, 1e-10)\n",
    "\tprint(particles[0, :2])"
   ]
  },
  {
   "cell_type": "code",
   "execution_count": 20,
   "metadata": {},
   "outputs": [],
   "source": [
    "# Initialize pygame display\n",
    "def init_pygame_display(window_size=(500, 500)):\n",
    "    pygame.init()\n",
    "    screen = pygame.display.set_mode(window_size)\n",
    "    pygame.display.set_caption(\"Position Simulation\")\n",
    "    return screen\n",
    "\n",
    "# Function to display simulation using pygame\n",
    "def run_simulation(particles, window_size=(500, 500), point_radius=5, speed=0.1):\n",
    "    screen = init_pygame_display(window_size)\n",
    "    clock = pygame.time.Clock()\n",
    "    running = True\n",
    "    \n",
    "    while running:\n",
    "        # Update particles\n",
    "        particles = simulation_step(particles, 1e-10)\n",
    "        \n",
    "\t\t# Pygame stuff\n",
    "        for event in pygame.event.get():\n",
    "            if event.type == pygame.QUIT:\n",
    "                running = False\n",
    "                pygame.quit()\n",
    "\n",
    "        screen.fill((255, 255, 255))  # Clear screen with white background\n",
    "\n",
    "        # Draw each point from positions array\n",
    "        for pos in particles:\n",
    "            print(pos)\n",
    "            x, y = pos[0], pos[1]\n",
    "            pygame.draw.circle(screen, (0, 0, 255), (int(x), int(y)), point_radius)\n",
    "\n",
    "        pygame.display.flip()  # Update the display\n",
    "        clock.tick(30)  # Cap the frame rate at 30 FPS"
   ]
  },
  {
   "cell_type": "code",
   "execution_count": 21,
   "metadata": {},
   "outputs": [],
   "source": [
    "#run_simulation(particles)"
   ]
  }
 ],
 "metadata": {
  "kernelspec": {
   "display_name": "Python 3",
   "language": "python",
   "name": "python3"
  },
  "language_info": {
   "codemirror_mode": {
    "name": "ipython",
    "version": 3
   },
   "file_extension": ".py",
   "mimetype": "text/x-python",
   "name": "python",
   "nbconvert_exporter": "python",
   "pygments_lexer": "ipython3",
   "version": "3.12.6"
  }
 },
 "nbformat": 4,
 "nbformat_minor": 2
}
