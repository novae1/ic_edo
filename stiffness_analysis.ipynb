{
 "cells": [
  {
   "cell_type": "markdown",
   "metadata": {},
   "source": [
    "# Stiffness Analysis"
   ]
  },
  {
   "cell_type": "markdown",
   "metadata": {},
   "source": [
    "I want to make a comprehensive analysis of stiffness and comparison of all the methods I've implemented. I should also include the Adams-Moulden or whatever.\n",
    "\n",
    "Some potentially useful resources:\n",
    "\n",
    "- Section 4.6 of the book\n",
    "- https://en.wikipedia.org/wiki/Stiff_equation"
   ]
  },
  {
   "cell_type": "code",
   "execution_count": null,
   "metadata": {},
   "outputs": [],
   "source": []
  }
 ],
 "metadata": {
  "language_info": {
   "name": "python"
  }
 },
 "nbformat": 4,
 "nbformat_minor": 2
}
