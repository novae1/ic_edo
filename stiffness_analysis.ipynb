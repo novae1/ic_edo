{
 "cells": [
  {
   "cell_type": "markdown",
   "metadata": {},
   "source": [
    "# Stiffness Analysis"
   ]
  },
  {
   "cell_type": "markdown",
   "metadata": {},
   "source": [
    "I want to make a comprehensive analysis of stiffness and comparison of all the methods I've implemented. I should also include the Adams-Moulden or whatever.\n",
    "\n",
    "Some potentially useful resources:\n",
    "\n",
    "- Section 4.6 of the book\n",
    "- https://en.wikipedia.org/wiki/Stiff_equation\n",
    "- https://www.mathworks.com/company/technical-articles/stiff-differential-equations.html\n",
    "- https://web.archive.org/web/20230926233120/http://acmbulletin.fiit.stuba.sk/vol4num3/satek.pdf\n",
    "- https://math.stackexchange.com/questions/4217585/stiff-odes-trouble-detecting-stiffness-from-the-plot-of-an-ode?noredirect=1&lq=1"
   ]
  },
  {
   "cell_type": "code",
   "execution_count": 6,
   "metadata": {},
   "outputs": [],
   "source": [
    "import numpy as np\n",
    "import matplotlib.pyplot as plt\n",
    "from scipy.integrate import solve_ivp"
   ]
  },
  {
   "cell_type": "markdown",
   "metadata": {},
   "source": [
    "## Implementation of main algorithms"
   ]
  },
  {
   "cell_type": "markdown",
   "metadata": {},
   "source": [
    "### Euler"
   ]
  },
  {
   "cell_type": "code",
   "execution_count": 52,
   "metadata": {},
   "outputs": [],
   "source": [
    "def euler_method(F, t0, x0, h, n_steps):\n",
    "    dim = len(x0)\n",
    "    t_end = t0 + h*n_steps\n",
    "    t = np.arange(t0, t_end, h)\n",
    "    x = np.zeros((n_steps, dim))\n",
    "    x[0] = x0\n",
    "\n",
    "    for n in range(1, n_steps):\n",
    "        x[n] = x[n-1] + h * F(t[n-1], x[n-1])\n",
    "\n",
    "    return t, x"
   ]
  },
  {
   "cell_type": "markdown",
   "metadata": {},
   "source": [
    "### Runge-Kutta"
   ]
  },
  {
   "cell_type": "code",
   "execution_count": 2,
   "metadata": {},
   "outputs": [],
   "source": [
    "def RK_method(F, t0, x0, h, n_steps, a, b, c):\n",
    "    dim = len(x0)\n",
    "    l = len(b)\n",
    "    t = np.arange(t0, t0 + h*n_steps, h)\n",
    "    x = np.zeros((n_steps, dim))\n",
    "    x[0] = x0\n",
    "    k = np.zeros((l, dim))\n",
    "\n",
    "    for n in range(1, n_steps):\n",
    "        k[0] = F(t[n-1], x[n-1])\n",
    "        for i in range(1, l):\n",
    "            t_i = t[n-1] + h * c[i]\n",
    "            x_i = x[n-1] + h * np.dot(a[i-1][:i], k[:i])\n",
    "            k[i] = F(t_i, x_i)\n",
    "        x[n] = x[n-1] + h * np.dot(b, k)\n",
    "\n",
    "    return t, x"
   ]
  },
  {
   "cell_type": "code",
   "execution_count": 3,
   "metadata": {},
   "outputs": [],
   "source": [
    "# 3-stage Runge-Kutta\n",
    "def RK3(F, t0, x0, h, n_steps):\n",
    "    a = np.array(\n",
    "        [[0.5, 0], [-1, 2]]\n",
    "    )\n",
    "    b = np.array([1/6, 4/6, 1/6])\n",
    "    c = np.array([0, 0.5, 1])\n",
    "    return RK_method(F, t0, x0, h, n_steps, a, b, c)\n",
    "\n",
    "# Classical (4-stage) Runge-Kutta\n",
    "def RK4(F, t_span, x0, n_steps):\n",
    "    a = np.array(\n",
    "        [[0.5, 0, 0],\n",
    "         [0, 0.5, 0],\n",
    "         [0, 0, 1]]\n",
    "    )\n",
    "    b = np.array([1/6, 2/6, 2/6, 1/6])\n",
    "    c = np.array([0, 0.5, 0.5, 1])\n",
    "    return RK_method(F, t_span, x0, n_steps, a, b, c)"
   ]
  },
  {
   "cell_type": "markdown",
   "metadata": {},
   "source": [
    "### RKF45"
   ]
  },
  {
   "cell_type": "code",
   "execution_count": 25,
   "metadata": {},
   "outputs": [],
   "source": [
    "# Lists with Butcher tableau for RKF45\n",
    "a = np.array([\n",
    "    [1/4, 0, 0, 0, 0],\n",
    "    [3/32, 9/32, 0, 0, 0],\n",
    "    [1932/2197, -7200/2197, 7296/2197, 0, 0],\n",
    "    [439/216, -8, 3680/513, -845/4104, 0],\n",
    "    [-8/27, 2, -3544/2565, 1859/4104, -11/40]\n",
    "])\n",
    "b4 = np.array([25/216, 0, 1408/2565, 2197/4104, -1/5, 0])\n",
    "b5 = np.array([16/135, 0, 6656/12825, 28561/56430, -9/50, 2/55])\n",
    "c = np.array([0, 1/4, 3/8, 12/13, 1, 1/2])\n",
    "\n",
    "# Should this even be here?\n",
    "MAX_ERROR = 1e-6\n",
    "MIN_STEP = 1e-4\n",
    "MAX_STEP = 5e-1\n",
    "\n",
    "# Dynamically compute the stepsize (h)\n",
    "def RKF45_step(F, t, x, h):\n",
    "    dim = len(x)\n",
    "    l = len(c)\n",
    "    k = np.zeros((l, dim))\n",
    "\n",
    "    k[0] = F(t, x)\n",
    "    for i in range(1, l):\n",
    "        k[i] = F(t + c[i] * h, x + np.dot(a[i-1, :i], k[:i]))\n",
    "    # Compute next time\n",
    "    t_next = t + h\n",
    "\n",
    "    # Compute next x with order 4 and 5 methods\n",
    "    x4 = x + h * np.dot(b4, k)\n",
    "    x5 = x + h * np.dot(b5, k)\n",
    "\n",
    "    # Compute error\n",
    "    error = np.linalg.norm(x4 - x5)\n",
    "\n",
    "    # Update h\n",
    "    h_next = h * np.power(MAX_ERROR / (2 * error), 1/4)\n",
    "    \n",
    "    # Return computation, possibly clipping h_next, or repeat with finer approximation\n",
    "    if error <= MAX_ERROR/2:\n",
    "        return t_next, x4, h_next\n",
    "    elif h_next < MIN_STEP or h_next > MAX_STEP:\n",
    "        return t_next, x4, np.clip(h_next, MIN_STEP, MAX_STEP)\n",
    "    else:\n",
    "        return RKF45_step(F, x, t, h_next)\n",
    "    \n",
    "# The main function\n",
    "def RKF45(F, t0, x0, h0, n_steps):\n",
    "    # Initialize stuff\n",
    "    dim = len(x0)\n",
    "    t = np.zeros((n_steps))\n",
    "    x = np.zeros((n_steps, dim))\n",
    "    h = np.zeros((n_steps))\n",
    "    t[0], x[0], h[0] = t0, x0, h0\n",
    "\n",
    "    for n in range(1, n_steps):\n",
    "        t[n], x[n], h[n] = RKF45_step(F, x[n-1], t[n-1], h[n-1])\n",
    "        \n",
    "    return t, x, h"
   ]
  },
  {
   "cell_type": "markdown",
   "metadata": {},
   "source": [
    "### Adams-Bashforth"
   ]
  },
  {
   "cell_type": "code",
   "execution_count": 4,
   "metadata": {},
   "outputs": [],
   "source": [
    "def compute_a_adams(k):\n",
    "    # return ndarray of a[i]'s\n",
    "    # which are the integral of pochhammer over i!, 0 <= i < k\n",
    "    # the book gives a recursive formula to compute a[i]\n",
    "    a = np.ones((k))\n",
    "    for i in range(1, k):\n",
    "        for j in range(i):\n",
    "            a[i] -= a[j] / (i+1-j)\n",
    "    return a\n",
    "\n",
    "def compute_delF(k, F, t, x):\n",
    "    # t = [t_n-k, ..., t_n-1]\n",
    "    # x = [x_n-k, ..., x_n-1]\n",
    "    dim = len(x[0])\n",
    "    delF = np.zeros((k, k, dim))\n",
    "    for j in range(k):\n",
    "        delF[0, j, :] = F(t[j], x[j])\n",
    "    for i in range(1, k):\n",
    "        for j in range(i, k):\n",
    "            delF[i, j] = delF[i-1, j] - delF[i-1, j-1]\n",
    "    return delF[:, k-1]\n",
    "\n",
    "def adams_bashforth(F, t_span, x0, n_steps, k):\n",
    "    dim = len(x0)\n",
    "    t_start, t_end = t_span\n",
    "    h = (t_end - t_start) / (n_steps - 1)\n",
    "\n",
    "    t = np.linspace(t_start, t_end, n_steps)\n",
    "    x = np.zeros((n_steps, dim))\n",
    "    a = compute_a_adams(k)\n",
    "\n",
    "    # Compute first k steps with RK\n",
    "    A = np.array(\n",
    "    [[0.5, 0], [-1, 2]]\n",
    "    )\n",
    "    B = np.array([1/6, 4/6, 1/6])\n",
    "    C = np.array([0, 0.5, 1])\n",
    "    _, x_first_k = RK_method(F, (t_start, t_start + h*(k-1)), x0, k, A, B, C)\n",
    "    x[:k] = x_first_k\n",
    "\n",
    "    for n in range(k, n_steps):\n",
    "        delF = compute_delF(k, F, t[n-k:n], x[n-k:n])\n",
    "        x[n] = x[n-1] + h * np.dot(a, delF)\n",
    "    \n",
    "    return t, x"
   ]
  },
  {
   "cell_type": "markdown",
   "metadata": {},
   "source": [
    "### Implicit methods"
   ]
  },
  {
   "cell_type": "code",
   "execution_count": null,
   "metadata": {},
   "outputs": [],
   "source": [
    "def newtons_method(x1, f, df, n):\n",
    "    # Initial guess\n",
    "    x = x1\n",
    "    for i in range(n):\n",
    "        if f(x) != 0 and df(x) != 0:\n",
    "            x -= f(x) / df(x)\n",
    "        else:\n",
    "            return x\n",
    "    return x\n",
    "\n",
    "def implicit_euler(F, dF_dx, t_span, x0, n_steps, k):\n",
    "    t_start, t_end = t_span\n",
    "    h = (t_end - t_start) / (n_steps - 1)\n",
    "\n",
    "    t = np.linspace(t_start, t_end, n_steps)\n",
    "    x = np.zeros(n_steps)\n",
    "    x[0] = x0\n",
    "    \n",
    "    for n in range(1, n_steps):\n",
    "        f = lambda y: x[n-1] + h * F(t[n], y) - y\n",
    "        df = lambda y: h * dF_dx(t[n], y) - 1\n",
    "        x[n] = newtons_method(x[n-1], f, df, k)\n",
    "    \n",
    "    return t, x"
   ]
  },
  {
   "cell_type": "markdown",
   "metadata": {},
   "source": [
    "## Many stiff ODEs"
   ]
  },
  {
   "cell_type": "markdown",
   "metadata": {},
   "source": [
    "Add lots of stiff ODEs and compare all the methods with them."
   ]
  },
  {
   "cell_type": "code",
   "execution_count": 63,
   "metadata": {},
   "outputs": [],
   "source": [
    "decay_rate = 15\n",
    "\n",
    "def exp_decay(t, x):\n",
    "\tDx = -decay_rate * x[0]\n",
    "\treturn np.array([Dx])"
   ]
  },
  {
   "cell_type": "code",
   "execution_count": 67,
   "metadata": {},
   "outputs": [
    {
     "data": {
      "image/png": "[encoded data removed]",
      "text/plain": [
       "<Figure size 640x480 with 1 Axes>"
      ]
     },
     "metadata": {},
     "output_type": "display_data"
    }
   ],
   "source": [
    "t0 = 0\n",
    "x0 = [1]\n",
    "h =0.03\n",
    "n_steps = 10\n",
    "\n",
    "# Solve ODE with Euler's method\n",
    "t_euler, x_euler = euler_method(exp_decay, t0, x0, h, n_steps)\n",
    "\n",
    "# Plot solutions\n",
    "plt.plot(t_euler, x_euler[:, 0], label=\"Euler's method solution\")\n",
    "plt.legend()\n",
    "plt.grid(True)\n",
    "plt.show()"
   ]
  }
 ],
 "metadata": {
  "kernelspec": {
   "display_name": "Python 3",
   "language": "python",
   "name": "python3"
  },
  "language_info": {
   "codemirror_mode": {
    "name": "ipython",
    "version": 3
   },
   "file_extension": ".py",
   "mimetype": "text/x-python",
   "name": "python",
   "nbconvert_exporter": "python",
   "pygments_lexer": "ipython3",
   "version": "3.12.6"
  }
 },
 "nbformat": 4,
 "nbformat_minor": 2
}
