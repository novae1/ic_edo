{
 "cells": [
  {
   "cell_type": "markdown",
   "metadata": {},
   "source": [
    "# Solving the 1d Heat equation with a PINN"
   ]
  },
  {
   "cell_type": "markdown",
   "metadata": {},
   "source": [
    "And now...\n",
    "\n",
    "It's time...\n",
    "\n",
    "For the moment you've been waiting for\n",
    "\n",
    "1...\n",
    "\n",
    "2...\n",
    "\n",
    "3...\n",
    "\n",
    "Ready?\n",
    "\n",
    "(Please *please* make the training loop output this when training starts)"
   ]
  },
  {
   "cell_type": "code",
   "execution_count": 85,
   "metadata": {},
   "outputs": [],
   "source": [
    "import torch\n",
    "from torch import nn, optim\n",
    "from torch.utils.data import Dataset, DataLoader\n",
    "\n",
    "import numpy as np\n",
    "\n",
    "import matplotlib.pyplot as plt"
   ]
  },
  {
   "cell_type": "code",
   "execution_count": 169,
   "metadata": {},
   "outputs": [],
   "source": [
    "# This is the head conductivity or whatever\n",
    "R = 1e-4"
   ]
  },
  {
   "cell_type": "markdown",
   "metadata": {},
   "source": [
    "## Data"
   ]
  },
  {
   "cell_type": "code",
   "execution_count": 170,
   "metadata": {},
   "outputs": [],
   "source": [
    "class TemperatureDataset(Dataset):\n",
    "    def __init__(self, initial_points, initial_temps, boundary_points, random_points):\n",
    "        # Random points at t = 0\n",
    "        self.initial_points = initial_points\n",
    "        # Temperature at each initial point\n",
    "        self.initial_temps = initial_temps\n",
    "        # Random points at x boundary\n",
    "        self.boundary_points = boundary_points\n",
    "        # Random points in domain\n",
    "        self.random_points = random_points\n",
    "\n",
    "    def __len__(self):\n",
    "        return len(self.random_points)\n",
    "    \n",
    "    def __getitem__(self, i):\n",
    "        initial_point = self.initial_points[i]\n",
    "        initial_temp = self.initial_temps[i]\n",
    "        boundary_point = self.boundary_points[i]\n",
    "        random_point = self.random_points[i]\n",
    "        return initial_point, initial_temp, boundary_point, random_point"
   ]
  },
  {
   "cell_type": "markdown",
   "metadata": {},
   "source": [
    "Train and test data"
   ]
  },
  {
   "cell_type": "code",
   "execution_count": 171,
   "metadata": {},
   "outputs": [],
   "source": [
    "T_RANGE = 10\n",
    "X_RANGE = 1\n",
    "n_train_datapoints = 100_000\n",
    "\n",
    "# Random points at t = 0\n",
    "initial_points = torch.zeros((n_train_datapoints, 2))\n",
    "initial_points[:, 1] = X_RANGE * torch.rand(n_train_datapoints)\n",
    "# Temperature 1 if 1/4 <= x <= 3/4, else 0\n",
    "initial_temps = torch.where(((initial_points[:, 1] >= 1/4) & (initial_points[:, 1] <= 3/4)), 1.0, 0.0)\n",
    "\n",
    "# Random points at the x boundary\n",
    "boundary_points = torch.zeros((n_train_datapoints, 2))\n",
    "# Pick points at random times\n",
    "boundary_points[:, 0] = T_RANGE * torch.rand(n_train_datapoints)\n",
    "# Pick left or right boundary points randomly\n",
    "boundary_points[:, 1] = X_RANGE * (torch.rand(n_train_datapoints)[:] >= 1/2).float()\n",
    "\n",
    "# random points in (0, T_RANGE) x (0, X_RANGE)\n",
    "random_points = torch.rand((n_train_datapoints, 2))\n",
    "random_points[:, 0] *= T_RANGE\n",
    "random_points[:, 1] *= X_RANGE"
   ]
  },
  {
   "cell_type": "code",
   "execution_count": 195,
   "metadata": {},
   "outputs": [
    {
     "name": "stdout",
     "output_type": "stream",
     "text": [
      "tensor([[0.0000, 0.7271],\n",
      "        [0.0000, 0.2612],\n",
      "        [0.0000, 0.7869],\n",
      "        ...,\n",
      "        [0.0000, 0.6496],\n",
      "        [0.0000, 0.1648],\n",
      "        [0.0000, 0.9314]]) tensor([1., 1., 0.,  ..., 1., 0., 0.])\n",
      "tensor([[4.5172, 0.0000],\n",
      "        [4.6372, 0.0000],\n",
      "        [6.2763, 0.0000],\n",
      "        ...,\n",
      "        [6.0514, 1.0000],\n",
      "        [7.2028, 1.0000],\n",
      "        [1.4600, 0.0000]])\n",
      "tensor([[8.1197, 0.8302],\n",
      "        [4.0172, 0.5685],\n",
      "        [7.4960, 0.9697],\n",
      "        ...,\n",
      "        [1.6962, 0.6566],\n",
      "        [9.6492, 0.8760],\n",
      "        [1.7105, 0.1491]])\n"
     ]
    }
   ],
   "source": [
    "print(initial_points, initial_temps)\n",
    "print(boundary_points)\n",
    "print(random_points)"
   ]
  },
  {
   "cell_type": "markdown",
   "metadata": {},
   "source": [
    "Everything looks OK. Let's create the dataset and dataloader now."
   ]
  },
  {
   "cell_type": "code",
   "execution_count": 173,
   "metadata": {},
   "outputs": [],
   "source": [
    "batch_size = 128"
   ]
  },
  {
   "cell_type": "code",
   "execution_count": 174,
   "metadata": {},
   "outputs": [],
   "source": [
    "train_dataset = TemperatureDataset(initial_points, initial_temps, boundary_points, random_points)\n",
    "\n",
    "train_dataloader = DataLoader(train_dataset, batch_size=batch_size, shuffle=True)"
   ]
  },
  {
   "cell_type": "markdown",
   "metadata": {},
   "source": [
    "Yay it's working, now it's time to set things up and start training. First I need to figure out how to take partial derivatives."
   ]
  },
  {
   "cell_type": "markdown",
   "metadata": {},
   "source": [
    "## Model and differentiation"
   ]
  },
  {
   "cell_type": "code",
   "execution_count": 185,
   "metadata": {},
   "outputs": [],
   "source": [
    "class TemperatureNetwork(nn.Module):\n",
    "\n",
    "    def __init__(self):\n",
    "        super().__init__()\n",
    "        self.network = nn.Sequential(\n",
    "            # inputs = t, x\n",
    "            nn.Linear(2, 512),\n",
    "            nn.Tanh(),\n",
    "            nn.Linear(512,512),\n",
    "            nn.Tanh(),\n",
    "            nn.Linear(512,512),\n",
    "            nn.Tanh(),\n",
    "            nn.Linear(512, 1)\n",
    "        )\n",
    "\n",
    "    def forward(self, x):\n",
    "        logits = self.network(x)\n",
    "        return logits"
   ]
  },
  {
   "cell_type": "code",
   "execution_count": 186,
   "metadata": {},
   "outputs": [],
   "source": [
    "model = TemperatureNetwork()"
   ]
  },
  {
   "cell_type": "markdown",
   "metadata": {},
   "source": [
    "This is how I'm supposed to do it in the training. Now I think I can start setting things up for training."
   ]
  },
  {
   "cell_type": "markdown",
   "metadata": {},
   "source": [
    "Model is working as expected!"
   ]
  },
  {
   "cell_type": "markdown",
   "metadata": {},
   "source": [
    "## Training"
   ]
  },
  {
   "cell_type": "code",
   "execution_count": 196,
   "metadata": {},
   "outputs": [],
   "source": [
    "learning_rate = 1e-4\n",
    "weight_decay = 1e-4\n",
    "n_epochs = 5\n",
    "\n",
    "# Loss coefficients\n",
    "A, B, C = 100, 1, 1\n",
    "\n",
    "TRAIN = True"
   ]
  },
  {
   "cell_type": "code",
   "execution_count": 197,
   "metadata": {},
   "outputs": [],
   "source": [
    "optimizer = optim.Adam(model.parameters(), lr=learning_rate)"
   ]
  },
  {
   "cell_type": "code",
   "execution_count": 198,
   "metadata": {},
   "outputs": [],
   "source": [
    "l1_loss = nn.SmoothL1Loss(reduction='mean')\n",
    "\n",
    "def loss_fn(initial_temp_pred, initial_temp_target, boundary_temp_pred, dT_dt, d2T_dx2):\n",
    "    initial_condition_loss = A * l1_loss(initial_temp_pred, initial_temp_target)\n",
    "    boundary_condition_loss = B * l1_loss(boundary_temp_pred, torch.zeros_like(boundary_temp_pred))\n",
    "    \n",
    "    pde_difference = dT_dt - R * d2T_dx2\n",
    "    pde_loss = C * l1_loss(pde_difference, torch.zeros_like(pde_difference))\n",
    "    \n",
    "    return initial_condition_loss + boundary_condition_loss + pde_loss"
   ]
  },
  {
   "cell_type": "code",
   "execution_count": 199,
   "metadata": {},
   "outputs": [
    {
     "name": "stdout",
     "output_type": "stream",
     "text": [
      "tensor(11.1306, grad_fn=<AddBackward0>)\n"
     ]
    }
   ],
   "source": [
    "ip, it, bp, rp = next(iter(train_dataloader))\n",
    "i_pred = model(ip)\n",
    "b_pred = model(bp)\n",
    "r_pred = model(rp)\n",
    "\n",
    "loss = loss_fn(i_pred, it.unsqueeze(dim=1), b_pred, b_pred, b_pred)\n",
    "print(loss)"
   ]
  },
  {
   "cell_type": "code",
   "execution_count": 200,
   "metadata": {},
   "outputs": [],
   "source": [
    "def train_loop(model, optimizer, loss_fn, dataloader, n_epochs):\n",
    "    for epoch in range(n_epochs):\n",
    "        print(f\"epoch {epoch+1}-------------------\")\n",
    "        for i, (initial_points, initial_temps, boundary_points, random_points) in enumerate(dataloader):\n",
    "            # Compute temperature at initial and boundary points\n",
    "            initial_pred = model(initial_points)\n",
    "            boundary_pred = model(boundary_points)\n",
    "\n",
    "            # Compute temperature at random points\n",
    "            random_points.requires_grad_(True)\n",
    "            random_pred = model(random_points)\n",
    "\n",
    "            # Compute dT/dt for each point in the batch\n",
    "            dT_dt = torch.autograd.grad(random_pred, random_points, grad_outputs=torch.ones_like(random_pred), create_graph=True)[0][:, 0:1]\n",
    "            \n",
    "            # Compute d2T/dx2 for each point in the batch\n",
    "            dT_dx = torch.autograd.grad(random_pred, random_points, grad_outputs=torch.ones_like(random_pred), create_graph=True)[0][:, 1:2]\n",
    "            d2T_dx2 = torch.autograd.grad(dT_dx, random_points, grad_outputs=torch.ones_like(dT_dx), create_graph=True)[0][:, 1:2]\n",
    "\n",
    "            # Compute loss and optimize\n",
    "            loss = loss_fn(initial_pred, initial_temps, boundary_pred, dT_dt, d2T_dx2)\n",
    "            loss.backward()\n",
    "            optimizer.step()\n",
    "            optimizer.zero_grad()\n",
    "\n",
    "            if i % 100 == 0:\n",
    "                with torch.no_grad():\n",
    "                    print(f\"train loss at batch {i}: {loss}\")"
   ]
  },
  {
   "cell_type": "code",
   "execution_count": 201,
   "metadata": {},
   "outputs": [
    {
     "name": "stdout",
     "output_type": "stream",
     "text": [
      "epoch 1-------------------\n",
      "train loss at batch 0: 12.659355163574219\n",
      "train loss at batch 100: 12.574355125427246\n",
      "train loss at batch 200: 12.514609336853027\n",
      "train loss at batch 300: 12.503425598144531\n",
      "train loss at batch 400: 12.74774169921875\n",
      "train loss at batch 500: 12.54696273803711\n",
      "train loss at batch 600: 12.485265731811523\n",
      "train loss at batch 700: 12.521921157836914\n",
      "epoch 2-------------------\n",
      "train loss at batch 0: 12.480514526367188\n",
      "train loss at batch 100: 12.453530311584473\n",
      "train loss at batch 200: 12.520675659179688\n",
      "train loss at batch 300: 12.576621055603027\n",
      "train loss at batch 400: 12.54016399383545\n",
      "train loss at batch 500: 12.469595909118652\n",
      "train loss at batch 600: 12.523956298828125\n",
      "train loss at batch 700: 12.90242862701416\n",
      "epoch 3-------------------\n",
      "train loss at batch 0: 12.733986854553223\n",
      "train loss at batch 100: 12.497902870178223\n",
      "train loss at batch 200: 12.505764961242676\n",
      "train loss at batch 300: 12.437417984008789\n",
      "train loss at batch 400: 12.648906707763672\n",
      "train loss at batch 500: 12.511115074157715\n",
      "train loss at batch 600: 12.468851089477539\n",
      "train loss at batch 700: 12.530553817749023\n",
      "epoch 4-------------------\n",
      "train loss at batch 0: 12.491971015930176\n",
      "train loss at batch 100: 12.478723526000977\n",
      "train loss at batch 200: 12.505102157592773\n",
      "train loss at batch 300: 12.56599235534668\n",
      "train loss at batch 400: 12.718583106994629\n",
      "train loss at batch 500: 12.388265609741211\n",
      "train loss at batch 600: 12.516522407531738\n",
      "train loss at batch 700: 12.521928787231445\n",
      "epoch 5-------------------\n",
      "train loss at batch 0: 12.526561737060547\n",
      "train loss at batch 100: 12.539072036743164\n",
      "train loss at batch 200: 12.50393009185791\n",
      "train loss at batch 300: 12.513952255249023\n",
      "train loss at batch 400: 12.507928848266602\n",
      "train loss at batch 500: 12.568034172058105\n",
      "train loss at batch 600: 12.52730655670166\n",
      "train loss at batch 700: 12.49522876739502\n"
     ]
    }
   ],
   "source": [
    "if TRAIN:\n",
    "    train_loop(model, optimizer, loss_fn, train_dataloader, n_epochs)"
   ]
  },
  {
   "cell_type": "code",
   "execution_count": 202,
   "metadata": {},
   "outputs": [],
   "source": [
    "def display_model_output(model, t_range=(0, 10), x_range=(0, 1), resolution=100):\n",
    "    model.eval()  # Set the model to evaluation mode\n",
    "    \n",
    "    # Create a grid of time and position values\n",
    "    t = np.linspace(t_range[0], t_range[1], resolution)\n",
    "    x = np.linspace(x_range[0], x_range[1], resolution)\n",
    "    T, X = np.meshgrid(t, x)\n",
    "    \n",
    "    # Prepare input for the model\n",
    "    points = np.vstack((T.flatten(), X.flatten())).T\n",
    "    points_tensor = torch.FloatTensor(points)\n",
    "    \n",
    "    # Generate predictions\n",
    "    with torch.no_grad():\n",
    "        temp_pred = model(points_tensor).cpu().numpy()\n",
    "    \n",
    "    # Reshape the output for plotting\n",
    "    temp_pred = temp_pred.reshape(resolution, resolution)\n",
    "    \n",
    "    # Create the plot\n",
    "    plt.figure(figsize=(10, 8))\n",
    "    im = plt.imshow(temp_pred, extent=[t_range[0], t_range[1], x_range[1], x_range[0]], \n",
    "                    aspect='auto', cmap='hot')\n",
    "    plt.colorbar(im, label='Temperature')\n",
    "    plt.title('Temperature Distribution over Time and Position')\n",
    "    plt.xlabel('Time')\n",
    "    plt.ylabel('Position')\n",
    "    plt.show()"
   ]
  },
  {
   "cell_type": "code",
   "execution_count": 203,
   "metadata": {},
   "outputs": [
    {
     "data": {
      "image/png": "[encoded data removed]",
      "text/plain": [
       "<Figure size 1000x800 with 2 Axes>"
      ]
     },
     "metadata": {},
     "output_type": "display_data"
    }
   ],
   "source": [
    "display_model_output(model)"
   ]
  },
  {
   "cell_type": "markdown",
   "metadata": {},
   "source": [
    "Why is the initial condition converging to 0.5 everywhere??? I think that's the cause of the loss not going down."
   ]
  }
 ],
 "metadata": {
  "kernelspec": {
   "display_name": "Python 3",
   "language": "python",
   "name": "python3"
  },
  "language_info": {
   "codemirror_mode": {
    "name": "ipython",
    "version": 3
   },
   "file_extension": ".py",
   "mimetype": "text/x-python",
   "name": "python",
   "nbconvert_exporter": "python",
   "pygments_lexer": "ipython3",
   "version": "3.10.12"
  }
 },
 "nbformat": 4,
 "nbformat_minor": 2
}
