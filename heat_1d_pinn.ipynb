{
 "cells": [
  {
   "cell_type": "markdown",
   "metadata": {},
   "source": [
    "# Solving the 1d Heat equation with a PINN"
   ]
  },
  {
   "cell_type": "markdown",
   "metadata": {},
   "source": [
    "And now...\n",
    "\n",
    "It's time...\n",
    "\n",
    "For the moment you've been waiting for\n",
    "\n",
    "1...\n",
    "\n",
    "2...\n",
    "\n",
    "3...\n",
    "\n",
    "Ready?\n",
    "\n",
    "(Please *please* make the training loop output this when training starts)"
   ]
  },
  {
   "cell_type": "code",
   "execution_count": 20,
   "metadata": {},
   "outputs": [],
   "source": [
    "import torch\n",
    "from torch import nn, optim\n",
    "from torch.utils.data import Dataset, DataLoader\n",
    "\n",
    "import matplotlib.pyplot as plt"
   ]
  },
  {
   "cell_type": "code",
   "execution_count": 21,
   "metadata": {},
   "outputs": [],
   "source": [
    "# This is the head conductivity or whatever\n",
    "R = 0.5"
   ]
  },
  {
   "cell_type": "markdown",
   "metadata": {},
   "source": [
    "## Data"
   ]
  },
  {
   "cell_type": "code",
   "execution_count": 73,
   "metadata": {},
   "outputs": [],
   "source": [
    "class TemperatureDataset(Dataset):\n",
    "    def __init__(self, initial_points, initial_temps, boundary_points, random_points):\n",
    "        # Random points at t = 0\n",
    "        self.initial_points = initial_points\n",
    "        # Temperature at each initial point\n",
    "        self.initial_temps = initial_temps\n",
    "        # Random points at x boundary\n",
    "        self.boundary_points = boundary_points\n",
    "        # Random points in domain\n",
    "        self.random_points = random_points\n",
    "\n",
    "    def __len__(self):\n",
    "        return len(self.random_points)\n",
    "    \n",
    "    def __getitem__(self, i):\n",
    "        initial_point = self.initial_points[i]\n",
    "        initial_temp = self.initial_temps[i].unsqueeze(dim=1)\n",
    "        boundary_point = self.boundary_points[i]\n",
    "        random_point = self.random_points[i]\n",
    "        return initial_point, initial_temp, boundary_point, random_point"
   ]
  },
  {
   "cell_type": "code",
   "execution_count": 23,
   "metadata": {},
   "outputs": [],
   "source": [
    "T_RANGE = 10\n",
    "X_RANGE = 1\n",
    "n_datapoints = 10\n",
    "\n",
    "# Random points at t = 0\n",
    "initial_points = torch.zeros((n_datapoints, 2))\n",
    "initial_points[:, 1] = X_RANGE * torch.rand(n_datapoints)\n",
    "# Temperature 1 if 1/4 <= x <= 3/4, else 0\n",
    "initial_temps = torch.where(((initial_points[:, 1] >= 1/4) & (initial_points[:, 1] <= 3/4)), 1.0, 0.0)\n",
    "\n",
    "# Random points at the x boundary\n",
    "boundary_points = torch.zeros((n_datapoints, 2))\n",
    "# Pick points at random times\n",
    "boundary_points[:, 0] = T_RANGE * torch.rand(n_datapoints)\n",
    "# Pick left or right boundary points randomly\n",
    "boundary_points[:, 1] = X_RANGE * (torch.rand(n_datapoints)[:] >= 1/2).float()\n",
    "\n",
    "# random points in (0, T_RANGE) x (0, X_RANGE)\n",
    "random_points = torch.rand((n_datapoints, 2))\n",
    "random_points[:, 0] *= T_RANGE\n",
    "random_points[:, 1] *= X_RANGE"
   ]
  },
  {
   "cell_type": "code",
   "execution_count": 24,
   "metadata": {},
   "outputs": [
    {
     "name": "stdout",
     "output_type": "stream",
     "text": [
      "tensor([[0.0000, 0.3215],\n",
      "        [0.0000, 0.7318],\n",
      "        [0.0000, 0.2801],\n",
      "        [0.0000, 0.2127],\n",
      "        [0.0000, 0.8053],\n",
      "        [0.0000, 0.3585],\n",
      "        [0.0000, 0.1360],\n",
      "        [0.0000, 0.3103],\n",
      "        [0.0000, 0.4042],\n",
      "        [0.0000, 0.2050]]) tensor([1., 1., 1., 0., 0., 1., 0., 1., 1., 0.])\n",
      "tensor([[0.9059, 1.0000],\n",
      "        [8.6501, 1.0000],\n",
      "        [2.8730, 0.0000],\n",
      "        [0.7269, 0.0000],\n",
      "        [5.4860, 0.0000],\n",
      "        [9.1013, 0.0000],\n",
      "        [3.3207, 1.0000],\n",
      "        [4.5460, 1.0000],\n",
      "        [5.5516, 1.0000],\n",
      "        [3.1209, 0.0000]])\n",
      "tensor([[9.8437, 0.6500],\n",
      "        [0.9324, 0.9370],\n",
      "        [0.2356, 0.5513],\n",
      "        [9.2116, 0.6273],\n",
      "        [3.8014, 0.9777],\n",
      "        [1.0089, 0.7477],\n",
      "        [1.7198, 0.6221],\n",
      "        [9.6129, 0.9223],\n",
      "        [9.5006, 0.7240],\n",
      "        [7.3226, 0.9822]])\n"
     ]
    }
   ],
   "source": [
    "print(initial_points, initial_temps)\n",
    "print(boundary_points)\n",
    "print(random_points)"
   ]
  },
  {
   "cell_type": "markdown",
   "metadata": {},
   "source": [
    "Everything looks OK. Let's create the dataset and dataloader now."
   ]
  },
  {
   "cell_type": "code",
   "execution_count": 25,
   "metadata": {},
   "outputs": [],
   "source": [
    "batch_size = 3"
   ]
  },
  {
   "cell_type": "code",
   "execution_count": 26,
   "metadata": {},
   "outputs": [],
   "source": [
    "train_dataset = TemperatureDataset(initial_points, initial_temps, boundary_points, random_points)\n",
    "\n",
    "train_dataloader = DataLoader(train_dataset, batch_size=batch_size, shuffle=True)"
   ]
  },
  {
   "cell_type": "code",
   "execution_count": 27,
   "metadata": {},
   "outputs": [
    {
     "name": "stdout",
     "output_type": "stream",
     "text": [
      "tensor([1., 1., 1.])\n",
      "tensor([1., 1., 1.])\n",
      "tensor([0., 0., 0.])\n",
      "tensor([0.])\n"
     ]
    }
   ],
   "source": [
    "for ip, it, bp, rp in train_dataloader:\n",
    "    print(it)"
   ]
  },
  {
   "cell_type": "markdown",
   "metadata": {},
   "source": [
    "Yay it's working, now it's time to set things up and start training. First I need to figure out how to take partial derivatives."
   ]
  },
  {
   "cell_type": "markdown",
   "metadata": {},
   "source": [
    "## Model and differentiation"
   ]
  },
  {
   "cell_type": "code",
   "execution_count": 28,
   "metadata": {},
   "outputs": [],
   "source": [
    "class TemperatureNetwork(nn.Module):\n",
    "\n",
    "    def __init__(self):\n",
    "        super().__init__()\n",
    "        self.network = nn.Sequential(\n",
    "            # inputs = t, x\n",
    "            nn.Linear(2, 128),\n",
    "            nn.Tanh(),\n",
    "            nn.Linear(128,128),\n",
    "            nn.Tanh(),\n",
    "            nn.Linear(128, 1)\n",
    "        )\n",
    "\n",
    "    def forward(self, x):\n",
    "        logits = self.network(x)\n",
    "        return logits"
   ]
  },
  {
   "cell_type": "code",
   "execution_count": 29,
   "metadata": {},
   "outputs": [],
   "source": [
    "model = TemperatureNetwork()"
   ]
  },
  {
   "cell_type": "markdown",
   "metadata": {},
   "source": [
    "This is how I'm supposed to do it in the training. Now I think I can start setting things up for training."
   ]
  },
  {
   "cell_type": "code",
   "execution_count": 30,
   "metadata": {},
   "outputs": [
    {
     "name": "stdout",
     "output_type": "stream",
     "text": [
      "tensor([[1.7198, 0.6221],\n",
      "        [7.3226, 0.9822],\n",
      "        [9.5006, 0.7240]], requires_grad=True) tensor([[0.2157],\n",
      "        [0.2972],\n",
      "        [0.2965]], grad_fn=<AddmmBackward0>)\n",
      "dT/dt: tensor([[0.0208],\n",
      "        [0.0038],\n",
      "        [0.0029]], grad_fn=<SliceBackward0>)\n",
      "d2T/dx2: tensor([[-0.0564],\n",
      "        [-0.0243],\n",
      "        [-0.0252]], grad_fn=<SliceBackward0>)\n",
      "tensor([[9.8437, 0.6500],\n",
      "        [3.8014, 0.9777],\n",
      "        [9.6129, 0.9223]], requires_grad=True) tensor([[0.2951],\n",
      "        [0.2752],\n",
      "        [0.3027]], grad_fn=<AddmmBackward0>)\n",
      "dT/dt: tensor([[0.0028],\n",
      "        [0.0110],\n",
      "        [0.0025]], grad_fn=<SliceBackward0>)\n",
      "d2T/dx2: tensor([[-0.0255],\n",
      "        [-0.0322],\n",
      "        [-0.0219]], grad_fn=<SliceBackward0>)\n",
      "tensor([[0.9324, 0.9370],\n",
      "        [1.0089, 0.7477],\n",
      "        [0.2356, 0.5513]], requires_grad=True) tensor([[0.2416],\n",
      "        [0.2191],\n",
      "        [0.1823]], grad_fn=<AddmmBackward0>)\n",
      "dT/dt: tensor([[-0.0115],\n",
      "        [ 0.0033],\n",
      "        [ 0.0171]], grad_fn=<SliceBackward0>)\n",
      "d2T/dx2: tensor([[-0.0485],\n",
      "        [-0.0532],\n",
      "        [-0.0682]], grad_fn=<SliceBackward0>)\n",
      "tensor([[9.2116, 0.6273]], requires_grad=True) tensor([[0.2924]], grad_fn=<AddmmBackward0>)\n",
      "dT/dt: tensor([[0.0033]], grad_fn=<SliceBackward0>)\n",
      "d2T/dx2: tensor([[-0.0271]], grad_fn=<SliceBackward0>)\n"
     ]
    }
   ],
   "source": [
    "for ip, it, bp, rp in train_dataloader:\n",
    "    # Ensure rp requires gradient\n",
    "    rp.requires_grad_(True)\n",
    "    \n",
    "    temp_pred = model(rp)\n",
    "    print(rp, temp_pred)\n",
    "\n",
    "    # Compute dT/dt for each point in the batch\n",
    "    dT_dt = torch.autograd.grad(temp_pred, rp, grad_outputs=torch.ones_like(temp_pred), create_graph=True)[0][:, 0:1]\n",
    "\n",
    "    # Compute d2T/dx2 for each point in the batch\n",
    "    dT_dx = torch.autograd.grad(temp_pred, rp, grad_outputs=torch.ones_like(temp_pred), create_graph=True)[0][:, 1:2]\n",
    "    d2T_dx2 = torch.autograd.grad(dT_dx, rp, grad_outputs=torch.ones_like(dT_dx), create_graph=True)[0][:, 1:2]\n",
    "\n",
    "    print(\"dT/dt:\", dT_dt)\n",
    "    print(\"d2T/dx2:\", d2T_dx2)"
   ]
  },
  {
   "cell_type": "markdown",
   "metadata": {},
   "source": [
    "Model is working as expected!"
   ]
  },
  {
   "cell_type": "markdown",
   "metadata": {},
   "source": [
    "## Training"
   ]
  },
  {
   "cell_type": "code",
   "execution_count": 31,
   "metadata": {},
   "outputs": [],
   "source": [
    "learning_rate = 3e-4\n",
    "weight_decay = 1e-3\n",
    "n_epochs = 10\n",
    "\n",
    "# Loss coefficients\n",
    "A, B, C = 1, 1, 10\n",
    "\n",
    "TRAIN = False"
   ]
  },
  {
   "cell_type": "code",
   "execution_count": 32,
   "metadata": {},
   "outputs": [],
   "source": [
    "optimizer = optim.AdamW(model.parameters(), lr=learning_rate, weight_decay=weight_decay)"
   ]
  },
  {
   "cell_type": "code",
   "execution_count": 102,
   "metadata": {},
   "outputs": [],
   "source": [
    "l1_loss = nn.SmoothL1Loss(reduction='mean')\n",
    "\n",
    "def loss_fn(initial_temp_pred, initial_temp_target, boundary_temp_pred, dT_dt, d2T_dx2):\n",
    "    initial_condition_loss = A * l1_loss(initial_temp_pred, initial_temp_target)\n",
    "    boundary_condition_loss = B * l1_loss(boundary_temp_pred, torch.zeros_like(boundary_temp_pred))\n",
    "    \n",
    "    pde_difference = dT_dt - R * d2T_dx2\n",
    "    pde_loss = C * l1_loss(pde_difference, torch.zeros_like(pde_difference))\n",
    "    \n",
    "    return initial_condition_loss + boundary_condition_loss + pde_loss"
   ]
  },
  {
   "cell_type": "code",
   "execution_count": 103,
   "metadata": {},
   "outputs": [
    {
     "name": "stdout",
     "output_type": "stream",
     "text": [
      "tensor(0.3602, grad_fn=<AddBackward0>)\n"
     ]
    }
   ],
   "source": [
    "ip, it, bp, rp = next(iter(train_dataloader))\n",
    "i_pred = model(ip)\n",
    "b_pred = model(bp)\n",
    "r_pred = model(rp)\n",
    "\n",
    "loss = loss_fn(i_pred, it.unsqueeze(dim=1), b_pred, b_pred, b_pred)\n",
    "print(loss)"
   ]
  },
  {
   "cell_type": "code",
   "execution_count": 35,
   "metadata": {},
   "outputs": [],
   "source": [
    "def train_loop(model, optimizer, loss_fn, dataloader, n_epochs):\n",
    "    for epoch in range(n_epochs):\n",
    "        for initial_points, initial_temps, boundary_points, random_points in dataloader:\n",
    "            pass"
   ]
  }
 ],
 "metadata": {
  "kernelspec": {
   "display_name": "Python 3",
   "language": "python",
   "name": "python3"
  },
  "language_info": {
   "codemirror_mode": {
    "name": "ipython",
    "version": 3
   },
   "file_extension": ".py",
   "mimetype": "text/x-python",
   "name": "python",
   "nbconvert_exporter": "python",
   "pygments_lexer": "ipython3",
   "version": "3.10.12"
  }
 },
 "nbformat": 4,
 "nbformat_minor": 2
}
